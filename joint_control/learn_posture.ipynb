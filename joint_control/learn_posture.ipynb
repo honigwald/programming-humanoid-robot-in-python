{
 "cells": [
  {
   "cell_type": "markdown",
   "metadata": {},
   "source": [
    "# Learn Posture"
   ]
  },
  {
   "cell_type": "markdown",
   "metadata": {},
   "source": [
    "use machine learning to recognize robot's posture (following the example in [scikit-learn-intro.ipynb](./scikit-learn-intro.ipynb) )"
   ]
  },
  {
   "cell_type": "markdown",
   "metadata": {},
   "source": [
    "## 1. Data collection\n",
    "\n",
    "We have colleceted data before, you need to add new data if you want to add new posture.\n",
    "\n",
    "* the dateset are in *robot_pose_data* folder\n",
    "* each file contains the data belongs to this posture, e.g. the data in *Back* file are collected when robot was in \"Back\" posture\n",
    "* the data file can be load by ```pickle```, e.g. ```pickle.load(open('Back'))```, the data is a list of feature data\n",
    "* the features (e.g. each row of the data) are ['LHipYawPitch', 'LHipRoll', 'LHipPitch', 'LKneePitch', 'RHipYawPitch', 'RHipRoll', 'RHipPitch', 'RKneePitch', 'AngleX', 'AngleY'], where 'AngleX' and 'AngleY' are body angle (e.g. ```Perception.imu```) and others are joint angles."
   ]
  },
  {
   "cell_type": "markdown",
   "metadata": {},
   "source": [
    "## 2. Data preprocessing"
   ]
  },
  {
   "cell_type": "code",
   "execution_count": 1,
   "metadata": {},
   "outputs": [
    {
     "name": "stdout",
     "output_type": "stream",
     "text": [
      "Populating the interactive namespace from numpy and matplotlib\n"
     ]
    }
   ],
   "source": [
    "%pylab inline\n",
    "import pickle\n",
    "from os import listdir, path\n",
    "import numpy as np\n",
    "from sklearn import svm, metrics\n",
    "\n",
    "ROBOT_POSE_DATA_DIR = 'robot_pose_data'"
   ]
  },
  {
   "cell_type": "code",
   "execution_count": 2,
   "metadata": {},
   "outputs": [
    {
     "name": "stdout",
     "output_type": "stream",
     "text": [
      "['Knee', 'Right', 'Stand', 'Left', 'HeadBack', 'Frog', 'Crouch', 'Sit', 'StandInit', 'Back', 'Belly']\n"
     ]
    }
   ],
   "source": [
    "classes = listdir(ROBOT_POSE_DATA_DIR)\n",
    "print classes"
   ]
  },
  {
   "cell_type": "code",
   "execution_count": 3,
   "metadata": {},
   "outputs": [],
   "source": [
    "def load_pose_data(i):\n",
    "    '''load pose data from file'''\n",
    "    data = []\n",
    "    target = []\n",
    "    # YOUR CODE HERE\n",
    "  \n",
    "    filename = path.join(ROBOT_POSE_DATA_DIR, classes[i])\n",
    "    data = pickle.load(open(filename))\n",
    "    target = [i] * len(data)\n",
    "    \n",
    "    #print \"Data: %s\" % data\n",
    "    #print \"Target: %s\" % target\n",
    "   \n",
    "    return data, target"
   ]
  },
  {
   "cell_type": "code",
   "execution_count": 4,
   "metadata": {},
   "outputs": [
    {
     "name": "stdout",
     "output_type": "stream",
     "text": [
      "total number of data 11\n"
     ]
    }
   ],
   "source": [
    "# load all the data\n",
    "all_data = []\n",
    "all_target = []\n",
    "# YOUR CODE HERE\n",
    "\n",
    "for i in range(len(classes)):\n",
    "    all_data.append(load_pose_data(i)[0])\n",
    "    all_target.append(load_pose_data(i)[1])    \n",
    "\n",
    "print 'total number of data', len(all_data)"
   ]
  },
  {
   "cell_type": "code",
   "execution_count": 5,
   "metadata": {},
   "outputs": [],
   "source": [
    "# shuffule data\n",
    "permutation = np.random.permutation(len(all_data))\n",
    "n_training_data = int(len(all_data) * 0.7)\n",
    "training_data = permutation[:n_training_data]"
   ]
  },
  {
   "cell_type": "markdown",
   "metadata": {},
   "source": [
    "## 3. Learn on training data\n",
    "\n",
    "In scikit-learn, an estimator for classification is a Python object that implements the methods fit(X, y) and predict(T). An example of an estimator is the class sklearn.svm.SVC that implements support vector classification."
   ]
  },
  {
   "cell_type": "code",
   "execution_count": 6,
   "metadata": {},
   "outputs": [],
   "source": [
    "clf = svm.SVC(gamma=0.001, C=100.)"
   ]
  },
  {
   "cell_type": "markdown",
   "metadata": {},
   "source": [
    "### learning"
   ]
  },
  {
   "cell_type": "code",
   "execution_count": 7,
   "metadata": {},
   "outputs": [
    {
     "data": {
      "text/plain": [
       "SVC(C=100.0, cache_size=200, class_weight=None, coef0=0.0,\n",
       "  decision_function_shape='ovr', degree=3, gamma=0.001, kernel='rbf',\n",
       "  max_iter=-1, probability=False, random_state=None, shrinking=True,\n",
       "  tol=0.001, verbose=False)"
      ]
     },
     "execution_count": 7,
     "metadata": {},
     "output_type": "execute_result"
    }
   ],
   "source": [
    "# YOUR CODE HERE\n",
    "matrix = []\n",
    "vector = []\n",
    "\n",
    "# reshape data to a matrix DxN\n",
    "# - D is the data\n",
    "# - N is amount of data\n",
    "for i in range(len(all_data)): \n",
    "    for j in range (len(all_data[i])):\n",
    "        matrix.append(np.array(all_data[i][j]).flatten())\n",
    "        #print (np.array(all_data[i][j]).flatten())\n",
    "      \n",
    "\n",
    "# reshape target to a vector N\n",
    "for i in range(len(all_target)): \n",
    "    for j in range (len(all_target[i])):\n",
    "        vector.append(all_target[i][j])\n",
    "\n",
    "matrix = np.array(matrix)\n",
    "vector = np.array(vector).flatten()\n",
    "\n",
    "#print matrix.shape\n",
    "#print vector.shape\n",
    "\n",
    "clf.fit(matrix, vector)"
   ]
  },
  {
   "cell_type": "markdown",
   "metadata": {},
   "source": [
    "### predicting"
   ]
  },
  {
   "cell_type": "code",
   "execution_count": 8,
   "metadata": {},
   "outputs": [
    {
     "data": {
      "text/plain": [
       "(array([10, 10, 10, 10, 10, 10, 10, 10, 10, 10, 10, 10, 10, 10, 10, 10, 10,\n",
       "        10, 10]),\n",
       " [10, 10, 10, 10, 10, 10, 10, 10, 10, 10, 10, 10, 10, 10, 10, 10, 10, 10, 10])"
      ]
     },
     "execution_count": 8,
     "metadata": {},
     "output_type": "execute_result"
    }
   ],
   "source": [
    "clf.predict(all_data[-1]), all_target[-1]"
   ]
  },
  {
   "cell_type": "code",
   "execution_count": 9,
   "metadata": {},
   "outputs": [],
   "source": [
    "def evaluate(expected, predicted):\n",
    "    print(\"Classification report:\\n%s\\n\" % metrics.classification_report(expected, predicted))\n",
    "\n",
    "    print(\"Confusion matrix:\\n%s\" % metrics.confusion_matrix(expected, predicted))"
   ]
  },
  {
   "cell_type": "code",
   "execution_count": 21,
   "metadata": {},
   "outputs": [
    {
     "name": "stdout",
     "output_type": "stream",
     "text": [
      "Classification report:\n",
      "             precision    recall  f1-score   support\n",
      "\n",
      "          0       1.00      1.00      1.00        10\n",
      "\n",
      "avg / total       1.00      1.00      1.00        10\n",
      "\n",
      "\n",
      "Confusion matrix:\n",
      "[[10]]\n",
      "Classification report:\n",
      "             precision    recall  f1-score   support\n",
      "\n",
      "          1       1.00      0.91      0.95        11\n",
      "          6       0.00      0.00      0.00         0\n",
      "\n",
      "avg / total       1.00      0.91      0.95        11\n",
      "\n",
      "\n",
      "Confusion matrix:\n",
      "[[10  1]\n",
      " [ 0  0]]\n",
      "Classification report:\n",
      "             precision    recall  f1-score   support\n",
      "\n",
      "          2       1.00      1.00      1.00        11\n",
      "\n",
      "avg / total       1.00      1.00      1.00        11\n",
      "\n",
      "\n",
      "Confusion matrix:\n",
      "[[11]]\n",
      "Classification report:\n",
      "             precision    recall  f1-score   support\n",
      "\n",
      "          3       1.00      1.00      1.00        20\n",
      "\n",
      "avg / total       1.00      1.00      1.00        20\n",
      "\n",
      "\n",
      "Confusion matrix:\n",
      "[[20]]\n",
      "Classification report:\n",
      "             precision    recall  f1-score   support\n",
      "\n",
      "          4       1.00      1.00      1.00        10\n",
      "\n",
      "avg / total       1.00      1.00      1.00        10\n",
      "\n",
      "\n",
      "Confusion matrix:\n",
      "[[10]]\n",
      "Classification report:\n",
      "             precision    recall  f1-score   support\n",
      "\n",
      "          5       1.00      1.00      1.00        10\n",
      "\n",
      "avg / total       1.00      1.00      1.00        10\n",
      "\n",
      "\n",
      "Confusion matrix:\n",
      "[[10]]\n",
      "Classification report:\n",
      "             precision    recall  f1-score   support\n",
      "\n",
      "          6       1.00      1.00      1.00        30\n",
      "\n",
      "avg / total       1.00      1.00      1.00        30\n",
      "\n",
      "\n",
      "Confusion matrix:\n",
      "[[30]]\n",
      "Classification report:\n",
      "             precision    recall  f1-score   support\n",
      "\n",
      "          7       1.00      1.00      1.00        26\n",
      "\n",
      "avg / total       1.00      1.00      1.00        26\n",
      "\n",
      "\n",
      "Confusion matrix:\n",
      "[[26]]\n",
      "Classification report:\n",
      "             precision    recall  f1-score   support\n",
      "\n",
      "          8       1.00      1.00      1.00        52\n",
      "\n",
      "avg / total       1.00      1.00      1.00        52\n",
      "\n",
      "\n",
      "Confusion matrix:\n",
      "[[52]]\n",
      "Classification report:\n",
      "             precision    recall  f1-score   support\n",
      "\n",
      "          9       1.00      1.00      1.00        23\n",
      "\n",
      "avg / total       1.00      1.00      1.00        23\n",
      "\n",
      "\n",
      "Confusion matrix:\n",
      "[[23]]\n",
      "Classification report:\n",
      "             precision    recall  f1-score   support\n",
      "\n",
      "         10       1.00      1.00      1.00        19\n",
      "\n",
      "avg / total       1.00      1.00      1.00        19\n",
      "\n",
      "\n",
      "Confusion matrix:\n",
      "[[19]]\n"
     ]
    }
   ],
   "source": [
    "expected = []\n",
    "predicted = []\n",
    "# YOUR CODE HERE\n",
    "from scipy import sparse\n",
    "\n",
    "for i in all_data:\n",
    "    predicted.append(clf.predict(i).tolist())\n",
    "    \n",
    "for j in all_target:\n",
    "    expected.append(j)\n",
    "\n",
    "#print predicted\n",
    "#print expected\n",
    "\n",
    "for i in range(len(expected)):\n",
    "    evaluate(expected[i],predicted[i])"
   ]
  },
  {
   "cell_type": "markdown",
   "metadata": {},
   "source": [
    "## 4. Evaluate on the test data"
   ]
  },
  {
   "cell_type": "code",
   "execution_count": 23,
   "metadata": {},
   "outputs": [
    {
     "name": "stdout",
     "output_type": "stream",
     "text": [
      "Classification report:\n",
      "             precision    recall  f1-score   support\n",
      "\n",
      "          0       1.00      1.00      1.00        10\n",
      "\n",
      "avg / total       1.00      1.00      1.00        10\n",
      "\n",
      "\n",
      "Confusion matrix:\n",
      "[[10]]\n",
      "Classification report:\n",
      "             precision    recall  f1-score   support\n",
      "\n",
      "          1       1.00      0.91      0.95        11\n",
      "          6       0.00      0.00      0.00         0\n",
      "\n",
      "avg / total       1.00      0.91      0.95        11\n",
      "\n",
      "\n",
      "Confusion matrix:\n",
      "[[10  1]\n",
      " [ 0  0]]\n",
      "Classification report:\n",
      "             precision    recall  f1-score   support\n",
      "\n",
      "          2       1.00      1.00      1.00        11\n",
      "\n",
      "avg / total       1.00      1.00      1.00        11\n",
      "\n",
      "\n",
      "Confusion matrix:\n",
      "[[11]]\n",
      "Classification report:\n",
      "             precision    recall  f1-score   support\n",
      "\n",
      "          3       1.00      1.00      1.00        20\n",
      "\n",
      "avg / total       1.00      1.00      1.00        20\n",
      "\n",
      "\n",
      "Confusion matrix:\n",
      "[[20]]\n",
      "Classification report:\n",
      "             precision    recall  f1-score   support\n",
      "\n",
      "          4       1.00      1.00      1.00        10\n",
      "\n",
      "avg / total       1.00      1.00      1.00        10\n",
      "\n",
      "\n",
      "Confusion matrix:\n",
      "[[10]]\n",
      "Classification report:\n",
      "             precision    recall  f1-score   support\n",
      "\n",
      "          5       1.00      1.00      1.00        10\n",
      "\n",
      "avg / total       1.00      1.00      1.00        10\n",
      "\n",
      "\n",
      "Confusion matrix:\n",
      "[[10]]\n",
      "Classification report:\n",
      "             precision    recall  f1-score   support\n",
      "\n",
      "          6       1.00      1.00      1.00        30\n",
      "\n",
      "avg / total       1.00      1.00      1.00        30\n",
      "\n",
      "\n",
      "Confusion matrix:\n",
      "[[30]]\n",
      "Classification report:\n",
      "             precision    recall  f1-score   support\n",
      "\n",
      "          7       1.00      1.00      1.00        26\n",
      "\n",
      "avg / total       1.00      1.00      1.00        26\n",
      "\n",
      "\n",
      "Confusion matrix:\n",
      "[[26]]\n",
      "Classification report:\n",
      "             precision    recall  f1-score   support\n",
      "\n",
      "          8       1.00      1.00      1.00        52\n",
      "\n",
      "avg / total       1.00      1.00      1.00        52\n",
      "\n",
      "\n",
      "Confusion matrix:\n",
      "[[52]]\n",
      "Classification report:\n",
      "             precision    recall  f1-score   support\n",
      "\n",
      "          9       1.00      1.00      1.00        23\n",
      "\n",
      "avg / total       1.00      1.00      1.00        23\n",
      "\n",
      "\n",
      "Confusion matrix:\n",
      "[[23]]\n",
      "Classification report:\n",
      "             precision    recall  f1-score   support\n",
      "\n",
      "         10       1.00      1.00      1.00        19\n",
      "\n",
      "avg / total       1.00      1.00      1.00        19\n",
      "\n",
      "\n",
      "Confusion matrix:\n",
      "[[19]]\n"
     ]
    }
   ],
   "source": [
    "expected = []\n",
    "predicted = []\n",
    "# YOUR CODE HERE\n",
    "for i in all_data:\n",
    "    predicted.append(clf.predict(i).tolist())\n",
    "    \n",
    "for j in all_target:\n",
    "    expected.append(j)\n",
    "    \n",
    "for i in range(len(expected)):\n",
    "    evaluate(expected[i],predicted[i])"
   ]
  },
  {
   "cell_type": "markdown",
   "metadata": {},
   "source": [
    "## 5. Deploy to the real system\n",
    "\n",
    "We can simple use `pickle` module to serialize the trained classifier."
   ]
  },
  {
   "cell_type": "code",
   "execution_count": 24,
   "metadata": {},
   "outputs": [],
   "source": [
    "import pickle\n",
    "ROBOT_POSE_CLF = 'robot_pose.pkl'\n",
    "pickle.dump(clf, open(ROBOT_POSE_CLF, 'w'))"
   ]
  },
  {
   "cell_type": "markdown",
   "metadata": {},
   "source": [
    "Then, in the application we can load the trained classifier again."
   ]
  },
  {
   "cell_type": "code",
   "execution_count": 25,
   "metadata": {},
   "outputs": [
    {
     "data": {
      "text/plain": [
       "(array([10, 10, 10, 10, 10, 10, 10, 10, 10, 10, 10, 10, 10, 10, 10, 10, 10,\n",
       "        10, 10]),\n",
       " [10, 10, 10, 10, 10, 10, 10, 10, 10, 10, 10, 10, 10, 10, 10, 10, 10, 10, 10])"
      ]
     },
     "execution_count": 25,
     "metadata": {},
     "output_type": "execute_result"
    }
   ],
   "source": [
    "clf2 = pickle.load(open(ROBOT_POSE_CLF))\n",
    "clf2.predict(all_data[-1]), all_target[-1]"
   ]
  },
  {
   "cell_type": "code",
   "execution_count": null,
   "metadata": {},
   "outputs": [],
   "source": []
  }
 ],
 "metadata": {
  "kernelspec": {
   "display_name": "Python 2",
   "language": "python",
   "name": "python2"
  },
  "language_info": {
   "codemirror_mode": {
    "name": "ipython",
    "version": 2
   },
   "file_extension": ".py",
   "mimetype": "text/x-python",
   "name": "python",
   "nbconvert_exporter": "python",
   "pygments_lexer": "ipython2",
   "version": "2.7.12"
  },
  "widgets": {
   "state": {},
   "version": "1.0.0"
  }
 },
 "nbformat": 4,
 "nbformat_minor": 1
}
